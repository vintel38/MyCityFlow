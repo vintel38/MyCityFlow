{
 "cells": [
  {
   "cell_type": "markdown",
   "id": "animal-madness",
   "metadata": {},
   "source": [
    "# Premier essai pour la réalisation d'une séquence d'étape de Cityflow "
   ]
  },
  {
   "cell_type": "code",
   "execution_count": 5,
   "id": "polyphonic-bulgarian",
   "metadata": {},
   "outputs": [],
   "source": [
    "import cityflow\n",
    "import os "
   ]
  },
  {
   "cell_type": "markdown",
   "id": "strong-southeast",
   "metadata": {},
   "source": [
    "## initial graph"
   ]
  },
  {
   "cell_type": "code",
   "execution_count": 6,
   "id": "abandoned-brown",
   "metadata": {},
   "outputs": [
    {
     "data": {
      "text/plain": [
       "'/home/vintel38/MyCityFlow'"
      ]
     },
     "execution_count": 6,
     "metadata": {},
     "output_type": "execute_result"
    }
   ],
   "source": [
    "path=os.getcwd()\n",
    "path"
   ]
  },
  {
   "cell_type": "code",
   "execution_count": 7,
   "id": "requested-lindsay",
   "metadata": {},
   "outputs": [],
   "source": [
    "config_path=os.path.join(path,\"examples\",\"config.json\")\n",
    "eng = cityflow.Engine(config_path, thread_num=1)"
   ]
  },
  {
   "cell_type": "code",
   "execution_count": 8,
   "id": "egyptian-enforcement",
   "metadata": {},
   "outputs": [],
   "source": [
    "for i in range(50):\n",
    "    eng.next_step()"
   ]
  },
  {
   "cell_type": "markdown",
   "id": "appropriate-closing",
   "metadata": {},
   "source": [
    "## advances in graph - new "
   ]
  },
  {
   "cell_type": "code",
   "execution_count": 9,
   "id": "sudden-present",
   "metadata": {},
   "outputs": [],
   "source": [
    "config_path=os.path.join(path,\"test1\",\"config.json\")"
   ]
  },
  {
   "cell_type": "code",
   "execution_count": null,
   "id": "incredible-thanks",
   "metadata": {},
   "outputs": [],
   "source": []
  }
 ],
 "metadata": {
  "kernelspec": {
   "display_name": "Python 3",
   "language": "python",
   "name": "python3"
  },
  "language_info": {
   "codemirror_mode": {
    "name": "ipython",
    "version": 3
   },
   "file_extension": ".py",
   "mimetype": "text/x-python",
   "name": "python",
   "nbconvert_exporter": "python",
   "pygments_lexer": "ipython3",
   "version": "3.6.12"
  }
 },
 "nbformat": 4,
 "nbformat_minor": 5
}
