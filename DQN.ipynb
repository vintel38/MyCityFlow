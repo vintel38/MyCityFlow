{
 "cells": [
  {
   "cell_type": "markdown",
   "id": "french-johns",
   "metadata": {},
   "source": [
    "# Implémentation d'un algorithme de Deep Q-Learning autour du problème de gestion de la circulation sur un carrefour automobile\n",
    "\n",
    "Prérequis : Connaissance en Q-Learning (sous-domaine du Reinforcement Learning/Apprentissage par renforcement), Deep Learning avec réseaux de neurones profonds, Package [Cityflow](https://github.com/cityflow-project/CityFlow) installé dans un environnement Anaconda dédié dans un os Linux "
   ]
  },
  {
   "cell_type": "code",
   "execution_count": 1,
   "id": "abstract-negotiation",
   "metadata": {},
   "outputs": [],
   "source": [
    "import cityflow \n",
    "import os \n",
    "import numpy as np\n",
    "import tensorflow as tf\n",
    "import tensorflow.keras as keras\n",
    "from tqdm import tqdm"
   ]
  },
  {
   "cell_type": "markdown",
   "id": "adaptive-toolbox",
   "metadata": {},
   "source": [
    "### Initialisation de l'environnement "
   ]
  },
  {
   "cell_type": "code",
   "execution_count": 2,
   "id": "physical-median",
   "metadata": {},
   "outputs": [
    {
     "data": {
      "text/plain": [
       "'/home/vintel38/MyCityFlow'"
      ]
     },
     "execution_count": 2,
     "metadata": {},
     "output_type": "execute_result"
    }
   ],
   "source": [
    "path = os.getcwd()\n",
    "path"
   ]
  },
  {
   "cell_type": "code",
   "execution_count": 3,
   "id": "quiet-luxury",
   "metadata": {},
   "outputs": [],
   "source": [
    "# config_path=os.path.join(path,\"test1\",\"config.json\")\n",
    "# eng = cityflow.Engine(config_path, thread_num=1)"
   ]
  },
  {
   "cell_type": "code",
   "execution_count": null,
   "id": "intended-paradise",
   "metadata": {},
   "outputs": [],
   "source": []
  },
  {
   "cell_type": "markdown",
   "id": "forward-education",
   "metadata": {},
   "source": [
    "### Initialisation du buffer et de ses opérations possibles"
   ]
  },
  {
   "cell_type": "code",
   "execution_count": 4,
   "id": "intellectual-operator",
   "metadata": {},
   "outputs": [],
   "source": [
    "from collections import deque \n",
    "\n",
    "def sample_buffer(batch_size):\n",
    "    indices = np.random.randint(len(replay_buffer), size=batch_size)\n",
    "    batch = [replay_buffer[index] for index in indices]\n",
    "    states, actions, next_states, rewards = [np.array([experience[field_index] for experience in batch]) \n",
    "                                             for field_index in range(4)]\n",
    "    return states, actions, next_states, rewards\n",
    "\n",
    "def fill_buffer(experiences):\n",
    "    replay_buffer.append(experiences)\n",
    "    \n",
    "## random shuffling of numpy.random.shuffle of replay_buffer"
   ]
  },
  {
   "cell_type": "code",
   "execution_count": null,
   "id": "musical-tourist",
   "metadata": {},
   "outputs": [],
   "source": []
  },
  {
   "cell_type": "markdown",
   "id": "prime-latvia",
   "metadata": {},
   "source": [
    "### Initialisation de l'agent et de ses opérations possibles"
   ]
  },
  {
   "cell_type": "code",
   "execution_count": 5,
   "id": "clear-acoustic",
   "metadata": {},
   "outputs": [],
   "source": [
    "def create_DNN(n_inputs, n_outputs):\n",
    "    model = tf.keras.models.Sequential([\n",
    "        keras.layers.Dense(64, activation=\"elu\", input_shape=n_inputs),\n",
    "        keras.layers.Dense(32, activation=\"elu\"),\n",
    "        keras.layers.Dense(n_outputs)\n",
    "    ])\n",
    "    return model\n",
    "\n",
    "def epsilon_policy(state, epsilon, n_outputs):\n",
    "    if epsilon > np.random.rand():\n",
    "        return np.random.randint(n_outputs)\n",
    "    else:\n",
    "        Q_values = modelTrain.predict(state[np.newaxis])\n",
    "        return np.argmax(Q_values[0])\n",
    "    \n",
    "def play_step(eng, state, epsilon, n_outputs):\n",
    "    action = epsilon_policy(state, epsilon, n_outputs)\n",
    "    prereward=sum(np.array(list(eng.get_lane_waiting_vehicle_count().values())))\n",
    "    eng.set_tl_phase(\"intersection_1_1\", action)\n",
    "    eng.next_step()\n",
    "    next_state=np.array(list(eng.get_lane_waiting_vehicle_count().values()))\n",
    "    reward=prereward-sum(next_state)\n",
    "    fill_buffer((state, action, next_state, reward))\n",
    "    return state, action, next_state, reward\n",
    "\n"
   ]
  },
  {
   "cell_type": "code",
   "execution_count": null,
   "id": "separate-beijing",
   "metadata": {},
   "outputs": [],
   "source": []
  },
  {
   "cell_type": "markdown",
   "id": "eligible-library",
   "metadata": {},
   "source": [
    "### Procédure d'entraînement \n",
    "\n",
    "Avant de commencer à entraîner le réseau de neurones à gérer la signalisation du carrefour, il est nécessaire de bien initialiser les parties prenantes de l'architecture et leurs interactions.\n",
    "\n",
    "L'état (state) est représenté par un vecteur colonne où chaque valeur correspond aux nombres de voitures à l'arrêt sur chaque ligne qui peut être représenté par la sortie de `eng.get_lane_waiting_vehicle_count()`. Ce vecteur a donc une taille de 1 x 12 dans notre cas d'intersection simplifiée. La récompense est définie comme le nombre de voiture mises en mouvement par intervalle de temps. Cette modélisation est simplifiée mais on peut vérifier si elle fonctionne. "
   ]
  },
  {
   "cell_type": "code",
   "execution_count": 6,
   "id": "continued-scheduling",
   "metadata": {},
   "outputs": [],
   "source": [
    "batch_size=32\n",
    "gamma=0.95 # discount factor\n",
    "optimizer=keras.optimizers.Adam(lr=1e-3)\n",
    "loss_fn=keras.losses.mean_squared_error\n",
    "\n",
    "def training_step(batch_size):\n",
    "    states, actions, next_states, rewards = sample_buffer(batch_size)\n",
    "    \n",
    "    # calcul de la Qvalues target\n",
    "    Qval_futur = modelTarget.predict(next_states)\n",
    "    max_Qval_futur = np.max(Qval_futur, axis=1)\n",
    "    Qtarget = (rewards + gamma * max_Qval_futur)\n",
    "    \n",
    "    # calcul de la Qvalues training\n",
    "    mask= tf.one_hot(actions, n_outputs)\n",
    "    with tf.GradientTape() as tape:\n",
    "        Qval_actual = modelTrain(states)\n",
    "        Qtraining = tf.reduce_sum(Qval_actual*mask, axis=1, keepdims=True)\n",
    "        \n",
    "        # calcul de la loss\n",
    "        loss = tf.reduce_mean(loss_fn(Qtarget, Qtraining))\n",
    "        \n",
    "    # calcul des gradients et \n",
    "    # application de la Gradient Descent procedure sur les poids du réseau de neurones\n",
    "    grads = tape.gradient(loss, modelTrain.trainable_variables)\n",
    "    optimizer.apply_gradients(zip(grads, modelTrain.trainable_variables))\n",
    "    return loss"
   ]
  },
  {
   "cell_type": "code",
   "execution_count": 7,
   "id": "headed-appendix",
   "metadata": {},
   "outputs": [
    {
     "name": "stderr",
     "output_type": "stream",
     "text": [
      "100%|██████████| 500/500 [01:01<00:00,  8.13it/s]"
     ]
    },
    {
     "name": "stdout",
     "output_type": "stream",
     "text": [
      "state [ 0 29  0  0 10  0  0  0  0  0  0  0  0  0  0  0  0  0  0 19  0  0 25  0]\n"
     ]
    },
    {
     "name": "stderr",
     "output_type": "stream",
     "text": [
      "\n"
     ]
    }
   ],
   "source": [
    "# Initialisation du buffer \n",
    "replay_buffer = deque(maxlen=2000)\n",
    "\n",
    "# Initialisation de l'environnement \n",
    "path = os.getcwd()\n",
    "config_path=os.path.join(path,\"test1\",\"config.json\")\n",
    "eng = cityflow.Engine(config_path, thread_num=1)\n",
    "\n",
    "# Initialisation du Neural Network\n",
    "n_inputs=24\n",
    "n_outputs=9 # nombre de lightphases (combinaison de feux) possibles pour la seule intersection_1_1\n",
    "# L'entrée du 2N consiste donc les 24 valeurs du décompte des voitures qui attendent sur chaque lane \n",
    "# lanes au nombre de 24 et la sortie est donc les 9 Qvalues associées aux lightphases possibles.\n",
    "\n",
    "modelTrain = create_DNN([n_inputs],n_outputs)\n",
    "modelTarget = create_DNN([n_inputs],n_outputs)\n",
    "state = [0 for i in range(n_inputs)]\n",
    "Rewards=[]\n",
    "\n",
    "eng.reset(seed=False)\n",
    "for episode in tqdm(range(500)):\n",
    "    epsilon = max(1-episode/100, 0.01)\n",
    "    state, action, next_state, reward = play_step(eng, state, epsilon, n_outputs)\n",
    "    state=next_state\n",
    "    \n",
    "    Rewards.append(reward)\n",
    "    \n",
    "    if episode > 50:\n",
    "        loss = training_step(batch_size)\n",
    "        #Loss.append(loss)\n",
    "        # ndlr hands on : loss is poor indicator of model performance\n",
    "        \n",
    "    if episode%5==0:\n",
    "        modelTarget.set_weights(modelTrain.get_weights()) \n",
    "print('state {}'.format(state))"
   ]
  },
  {
   "cell_type": "code",
   "execution_count": 8,
   "id": "rural-shore",
   "metadata": {},
   "outputs": [
    {
     "data": {
      "text/plain": [
       "83"
      ]
     },
     "execution_count": 8,
     "metadata": {},
     "output_type": "execute_result"
    }
   ],
   "source": [
    "sum(state)"
   ]
  },
  {
   "cell_type": "code",
   "execution_count": 9,
   "id": "floppy-aquatic",
   "metadata": {},
   "outputs": [],
   "source": [
    "import matplotlib.pyplot as plt "
   ]
  },
  {
   "cell_type": "code",
   "execution_count": 10,
   "id": "generic-grammar",
   "metadata": {},
   "outputs": [
    {
     "data": {
      "text/plain": [
       "[<matplotlib.lines.Line2D at 0x7fa3f80dc048>]"
      ]
     },
     "execution_count": 10,
     "metadata": {},
     "output_type": "execute_result"
    },
    {
     "data": {
      "image/png": "[encoded data removed]",
      "text/plain": [
       "<Figure size 432x288 with 1 Axes>"
      ]
     },
     "metadata": {
      "needs_background": "light"
     },
     "output_type": "display_data"
    }
   ],
   "source": [
    "plt.plot(Rewards)"
   ]
  },
  {
   "cell_type": "code",
   "execution_count": null,
   "id": "coordinate-abortion",
   "metadata": {},
   "outputs": [],
   "source": []
  }
 ],
 "metadata": {
  "kernelspec": {
   "display_name": "Python 3",
   "language": "python",
   "name": "python3"
  },
  "language_info": {
   "codemirror_mode": {
    "name": "ipython",
    "version": 3
   },
   "file_extension": ".py",
   "mimetype": "text/x-python",
   "name": "python",
   "nbconvert_exporter": "python",
   "pygments_lexer": "ipython3",
   "version": "3.6.12"
  }
 },
 "nbformat": 4,
 "nbformat_minor": 5
}
