{
 "cells": [
  {
   "cell_type": "markdown",
   "id": "analyzed-dayton",
   "metadata": {},
   "source": [
    "# Implémentation d'un algorithme de Deep Q-Learning autour du problème de gestion de la circulation sur un carrefour automobile\n",
    "\n",
    "Prérequis : Connaissance en Q-Learning (sous-domaine du Reinforcement Learning/Apprentissage par renforcement), Deep Learning avec réseaux de neurones profonds, Package [Cityflow](https://github.com/cityflow-project/CityFlow) installé dans un environnement Anaconda dédié dans un os Linux "
   ]
  },
  {
   "cell_type": "code",
   "execution_count": 25,
   "id": "simplified-default",
   "metadata": {},
   "outputs": [],
   "source": [
    "import cityflow \n",
    "import os \n",
    "import numpy as np\n",
    "import tensorflow as tf\n",
    "import tensorflow.keras as keras"
   ]
  },
  {
   "cell_type": "markdown",
   "id": "severe-amber",
   "metadata": {},
   "source": [
    "### Initialisation de l'environnement "
   ]
  },
  {
   "cell_type": "code",
   "execution_count": 54,
   "id": "important-hunger",
   "metadata": {},
   "outputs": [
    {
     "data": {
      "text/plain": [
       "'/home/vintel38/MyCityFlow'"
      ]
     },
     "execution_count": 54,
     "metadata": {},
     "output_type": "execute_result"
    }
   ],
   "source": [
    "path = os.getcwd()\n",
    "path"
   ]
  },
  {
   "cell_type": "code",
   "execution_count": 55,
   "id": "innovative-screw",
   "metadata": {},
   "outputs": [],
   "source": [
    "config_path=os.path.join(path,\"examples\",\"config.json\")\n",
    "eng = cityflow.Engine(config_path, thread_num=1)"
   ]
  },
  {
   "cell_type": "markdown",
   "id": "fundamental-stewart",
   "metadata": {},
   "source": [
    "### Initialisation du buffer et de ses opérations possibles"
   ]
  },
  {
   "cell_type": "code",
   "execution_count": 49,
   "id": "sought-norfolk",
   "metadata": {},
   "outputs": [],
   "source": [
    "from collections import deque \n",
    "\n",
    "replay_buffer = deque(maxlen=2000)\n",
    "\n",
    "def sample_buffer(batch_size):\n",
    "    indices = np.random.randint(len(replay_buffer), size=batch_size)\n",
    "    batch = [replay_buffer[index] for index in indices]\n",
    "    states, actions, next_states, rewards = [np.array([experience[field_index] for experience in batch]) \n",
    "                                             for field_index in range(5)]\n",
    "    return states, actions, next_states, rewards\n",
    "\n",
    "def fill_buffer(experiences):\n",
    "    replay_buffer.append(experiences)\n",
    "    \n",
    "## random shuffling of numpy.random.shuffle of replay_buffer"
   ]
  },
  {
   "cell_type": "code",
   "execution_count": null,
   "id": "cooked-effectiveness",
   "metadata": {},
   "outputs": [],
   "source": [
    "replay_buffer"
   ]
  },
  {
   "cell_type": "code",
   "execution_count": 40,
   "id": "comparative-clarity",
   "metadata": {},
   "outputs": [],
   "source": [
    "for i in range(50):\n",
    "    fill_buffer(i)"
   ]
  },
  {
   "cell_type": "code",
   "execution_count": null,
   "id": "cross-blank",
   "metadata": {},
   "outputs": [],
   "source": []
  },
  {
   "cell_type": "markdown",
   "id": "finite-finance",
   "metadata": {},
   "source": [
    "### Initialisation de l'agent et de ses opérations possibles"
   ]
  },
  {
   "cell_type": "code",
   "execution_count": 53,
   "id": "international-korea",
   "metadata": {},
   "outputs": [],
   "source": [
    "def create_DNN(n_inputs, n_outputs):\n",
    "    model = tf.keras.models.Sequential([\n",
    "        keras.layers.Dense(64, activation=\"relu\", input_shape=n_inputs),\n",
    "        keras.layers.Dense(32, activation=\"relu\"),\n",
    "        keras.layers.Dense(n_outputs)\n",
    "    ])\n",
    "    return model\n",
    "\n",
    "def epsilon_policy(state, epsilon, n_outputs):\n",
    "    if epsilon > np.random.rand():\n",
    "        return np.random.randint(n_outputs)\n",
    "    else:\n",
    "        Q_values = model.predict(state[np.newaxis])\n",
    "        return np.argmax(Q_values[0])\n",
    "    \n",
    "def play_step(eng, state, epsilon, n_outputs):\n",
    "    action = epsilon_policy(state, epsilon, n_outputs)\n",
    "    prereward=get_lane_waiting_vehicle_count().sum()\n",
    "    eng.next_step()\n",
    "    next_state=get_lane_waiting_vehicle_count()\n",
    "    reward=prereward-get_lane_waiting_vehicle_count().sum()\n",
    "    fill_buffer=(state, action, next_state, reward)\n",
    "    return state, action, next_state, reward"
   ]
  },
  {
   "cell_type": "code",
   "execution_count": 47,
   "id": "painful-insurance",
   "metadata": {},
   "outputs": [],
   "source": [
    "model=create_DNN([128], 5)"
   ]
  },
  {
   "cell_type": "code",
   "execution_count": 45,
   "id": "anonymous-delta",
   "metadata": {},
   "outputs": [
    {
     "data": {
      "text/plain": [
       "0"
      ]
     },
     "execution_count": 45,
     "metadata": {},
     "output_type": "execute_result"
    }
   ],
   "source": [
    "np.random.randint(3)"
   ]
  },
  {
   "cell_type": "markdown",
   "id": "anticipated-backup",
   "metadata": {},
   "source": [
    "### Procédure d'entraînement "
   ]
  },
  {
   "cell_type": "code",
   "execution_count": null,
   "id": "separate-dictionary",
   "metadata": {},
   "outputs": [],
   "source": []
  }
 ],
 "metadata": {
  "kernelspec": {
   "display_name": "Python 3",
   "language": "python",
   "name": "python3"
  },
  "language_info": {
   "codemirror_mode": {
    "name": "ipython",
    "version": 3
   },
   "file_extension": ".py",
   "mimetype": "text/x-python",
   "name": "python",
   "nbconvert_exporter": "python",
   "pygments_lexer": "ipython3",
   "version": "3.6.12"
  }
 },
 "nbformat": 4,
 "nbformat_minor": 5
}
