{
 "cells": [
  {
   "cell_type": "markdown",
   "id": "stylish-brooklyn",
   "metadata": {},
   "source": [
    "# Premier essai pour la réalisation d'une séquence d'étape de Cityflow "
   ]
  },
  {
   "cell_type": "code",
   "execution_count": 2,
   "id": "sweet-fundamental",
   "metadata": {},
   "outputs": [],
   "source": [
    "import cityflow\n",
    "import os \n",
    "import numpy as np"
   ]
  },
  {
   "cell_type": "markdown",
   "id": "super-structure",
   "metadata": {},
   "source": [
    "## initial graph"
   ]
  },
  {
   "cell_type": "code",
   "execution_count": null,
   "id": "cardiac-invention",
   "metadata": {},
   "outputs": [],
   "source": [
    "path=os.getcwd()\n",
    "path"
   ]
  },
  {
   "cell_type": "code",
   "execution_count": null,
   "id": "present-joseph",
   "metadata": {},
   "outputs": [],
   "source": [
    "config_path=os.path.join(path,\"examples\",\"config.json\")\n",
    "eng = cityflow.Engine(config_path, thread_num=1)"
   ]
  },
  {
   "cell_type": "code",
   "execution_count": null,
   "id": "continued-chemistry",
   "metadata": {},
   "outputs": [],
   "source": [
    "for i in range(50):\n",
    "    eng.next_step()"
   ]
  },
  {
   "cell_type": "markdown",
   "id": "brazilian-globe",
   "metadata": {},
   "source": [
    "## advances in graph - new "
   ]
  },
  {
   "cell_type": "code",
   "execution_count": 5,
   "id": "funded-manner",
   "metadata": {},
   "outputs": [
    {
     "data": {
      "text/plain": [
       "'/home/vintel38/MyCityFlow'"
      ]
     },
     "execution_count": 5,
     "metadata": {},
     "output_type": "execute_result"
    }
   ],
   "source": [
    "path=os.getcwd()\n",
    "path"
   ]
  },
  {
   "cell_type": "code",
   "execution_count": 6,
   "id": "configured-airport",
   "metadata": {},
   "outputs": [],
   "source": [
    "config_path=os.path.join(path,\"test1\",\"config.json\")\n",
    "eng = cityflow.Engine(config_path, thread_num=1)"
   ]
  },
  {
   "cell_type": "code",
   "execution_count": 7,
   "id": "certified-surprise",
   "metadata": {},
   "outputs": [],
   "source": [
    "for i in range(500):\n",
    "    eng.next_step()"
   ]
  },
  {
   "cell_type": "code",
   "execution_count": 8,
   "id": "fiscal-touch",
   "metadata": {},
   "outputs": [
    {
     "data": {
      "text/plain": [
       "dict_values([0, 32, 0, 0, 23, 0, 0, 0, 0, 0, 0, 0, 0, 0, 0, 0, 0, 0, 0, 13, 0, 0, 32, 0])"
      ]
     },
     "execution_count": 8,
     "metadata": {},
     "output_type": "execute_result"
    }
   ],
   "source": [
    "\n",
    "\n",
    "eng.get_lane_waiting_vehicle_count().values()"
   ]
  },
  {
   "cell_type": "code",
   "execution_count": null,
   "id": "funky-solution",
   "metadata": {},
   "outputs": [],
   "source": [
    "np.array([eng.get_lane_waiting_vehicle_count().values()])"
   ]
  },
  {
   "cell_type": "code",
   "execution_count": 9,
   "id": "charitable-implementation",
   "metadata": {},
   "outputs": [
    {
     "data": {
      "text/plain": [
       "[0, 32, 0, 0, 23, 0, 0, 0, 0, 0, 0, 0, 0, 0, 0, 0, 0, 0, 0, 13, 0, 0, 32, 0]"
      ]
     },
     "execution_count": 9,
     "metadata": {},
     "output_type": "execute_result"
    }
   ],
   "source": [
    "list(eng.get_lane_waiting_vehicle_count().values())"
   ]
  },
  {
   "cell_type": "code",
   "execution_count": 10,
   "id": "designing-depression",
   "metadata": {},
   "outputs": [
    {
     "data": {
      "text/plain": [
       "array([ 0, 32,  0,  0, 23,  0,  0,  0,  0,  0,  0,  0,  0,  0,  0,  0,  0,\n",
       "        0,  0, 13,  0,  0, 32,  0])"
      ]
     },
     "execution_count": 10,
     "metadata": {},
     "output_type": "execute_result"
    }
   ],
   "source": [
    "np.array(list(eng.get_lane_waiting_vehicle_count().values()))"
   ]
  },
  {
   "cell_type": "code",
   "execution_count": null,
   "id": "worthy-swiss",
   "metadata": {},
   "outputs": [],
   "source": []
  }
 ],
 "metadata": {
  "kernelspec": {
   "display_name": "Python 3",
   "language": "python",
   "name": "python3"
  },
  "language_info": {
   "codemirror_mode": {
    "name": "ipython",
    "version": 3
   },
   "file_extension": ".py",
   "mimetype": "text/x-python",
   "name": "python",
   "nbconvert_exporter": "python",
   "pygments_lexer": "ipython3",
   "version": "3.6.12"
  }
 },
 "nbformat": 4,
 "nbformat_minor": 5
}
